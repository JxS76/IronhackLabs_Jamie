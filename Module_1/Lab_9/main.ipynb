{
 "cells": [
  {
   "cell_type": "markdown",
   "metadata": {},
   "source": [
    "# Loops\n",
    "\n",
    "Complete the following set of exercises to solidify your knowledge for Loops."
   ]
  },
  {
   "cell_type": "markdown",
   "metadata": {},
   "source": [
    "#### 1. Print first 10 natural numbers using while loop"
   ]
  },
  {
   "cell_type": "code",
   "execution_count": 1,
   "metadata": {},
   "outputs": [
    {
     "name": "stdout",
     "output_type": "stream",
     "text": [
      "1\n",
      "2\n",
      "3\n",
      "4\n",
      "5\n",
      "6\n",
      "7\n",
      "8\n",
      "9\n",
      "10\n"
     ]
    }
   ],
   "source": [
    "x = 0\n",
    "\n",
    "while x in range (0,10):\n",
    "    x += 1\n",
    "    print(x)"
   ]
  },
  {
   "cell_type": "markdown",
   "metadata": {},
   "source": [
    "#### 2. Display numbers from a list using loop\n",
    "Write a program to display only those numbers from a list that satisfy the following conditions\n",
    "\n",
    "The number must be divisible by five\n",
    "\n",
    "If the number is greater than 150, then skip it and move to the next number\n",
    "\n",
    "If the number is greater than 500, then stop the loop\n",
    "\n",
    "numbers = [12, 75, 150, 180, 145, 525, 50]"
   ]
  },
  {
   "cell_type": "code",
   "execution_count": 39,
   "metadata": {},
   "outputs": [
    {
     "name": "stdout",
     "output_type": "stream",
     "text": [
      "75\n",
      "150\n",
      "145\n"
     ]
    }
   ],
   "source": [
    "numbers = [12, 75, 150, 180, 145, 525, 50]\n",
    "for x in numbers:\n",
    "    if x%5 != 0 and x < 150:\n",
    "        continue\n",
    "    elif x <= 150:\n",
    "        print(x)\n",
    "    elif x > 500:\n",
    "        break"
   ]
  },
  {
   "cell_type": "markdown",
   "metadata": {},
   "source": [
    "#### 3.Write a Python program to check the validity of a password (input from users).\n",
    "\n",
    "Validation :\n",
    "\n",
    "At least 1 letter between [a-z] and 1 letter between [A-Z].\n",
    "\n",
    "At least 1 number between [0-9].\n",
    "\n",
    "At least 1 character from [$#@].\n",
    "\n",
    "Minimum length 6 characters.\n",
    "\n",
    "Maximum length 16 characters."
   ]
  },
  {
   "cell_type": "code",
   "execution_count": null,
   "metadata": {},
   "outputs": [],
   "source": [
    "import re\n",
    "\n",
    "password = input(\"Please enter a password\")\n",
    "flag = 1\n",
    "while True:  \n",
    "    if len(password) > 16 and len(password) < 6:\n",
    "        flag = 0\n",
    "        break\n",
    "    elif not re.search(\"[a-z]\", password):\n",
    "        flag = 0\n",
    "        break\n",
    "    elif not re.search(\"[A-Z]\", password):\n",
    "        flag = 0\n",
    "        break\n",
    "    elif not re.search(\"[0-9]\", password):\n",
    "        flag = 0\n",
    "        break\n",
    "    elif not re.search(\"[$#@]\", password):\n",
    "        flag = 0\n",
    "        break\n",
    "    else:\n",
    "        flag = 1\n",
    "        print(\"Valid Password\")\n",
    "        break\n",
    "        \n",
    "if flag == 0:\n",
    "    print(\"Not a Valid Password\")"
   ]
  },
  {
   "cell_type": "markdown",
   "metadata": {},
   "source": [
    "#### 4. Break the loop when x is 6, and see what happens with the else block"
   ]
  },
  {
   "cell_type": "code",
   "execution_count": null,
   "metadata": {},
   "outputs": [],
   "source": [
    "import re\n",
    "\n",
    "password = input(\"Please enter a password\")\n",
    "flag = 1\n",
    "while True:  \n",
    "    if len(password) == 6:\n",
    "        flag = 0\n",
    "        break\n",
    "    elif not re.search(\"[a-z]\", password):\n",
    "        flag = 0\n",
    "        break\n",
    "    elif not re.search(\"[A-Z]\", password):\n",
    "        flag = 0\n",
    "        break\n",
    "    elif not re.search(\"[0-9]\", password):\n",
    "        flag = 0\n",
    "        break\n",
    "    elif not re.search(\"[$#@]\", password):\n",
    "        flag = 0\n",
    "        break\n",
    "    else:\n",
    "        flag = 1\n",
    "        print(\"Valid Password\")\n",
    "        break\n",
    "        \n",
    "if flag == 0:\n",
    "    print(\"Not a Valid Password\")"
   ]
  },
  {
   "cell_type": "markdown",
   "metadata": {},
   "source": [
    "#### 5. Write a Python program to calculate the sum and average of n integer numbers (input from the user). Input 0 to finish.\n"
   ]
  },
  {
   "cell_type": "code",
   "execution_count": 4,
   "metadata": {},
   "outputs": [
    {
     "name": "stdout",
     "output_type": "stream",
     "text": [
      "Enter number54\n",
      "Sum of the first 54 numbers is: 1485\n",
      "Average of 54 numbers is: 0.5185185185185185\n"
     ]
    }
   ],
   "source": [
    "x = int(input(\"Please enter a number\"))\n",
    "total = 0\n",
    "\n",
    "for num in range(1,x+1,1):\n",
    "    total = total+num\n",
    "print(\"Sum of the first\", x, \"numbers is:\", total)\n",
    "avg = sum/x\n",
    "print(\"Average of\", x, \"numbers is:\", avg)"
   ]
  },
  {
   "cell_type": "code",
   "execution_count": null,
   "metadata": {},
   "outputs": [],
   "source": []
  }
 ],
 "metadata": {
  "kernelspec": {
   "display_name": "Python 3 (ipykernel)",
   "language": "python",
   "name": "python3"
  },
  "language_info": {
   "codemirror_mode": {
    "name": "ipython",
    "version": 3
   },
   "file_extension": ".py",
   "mimetype": "text/x-python",
   "name": "python",
   "nbconvert_exporter": "python",
   "pygments_lexer": "ipython3",
   "version": "3.9.7"
  }
 },
 "nbformat": 4,
 "nbformat_minor": 2
}
