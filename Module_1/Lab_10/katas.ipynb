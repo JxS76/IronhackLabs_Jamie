{
 "cells": [
  {
   "cell_type": "code",
   "execution_count": null,
   "id": "383ead31",
   "metadata": {},
   "outputs": [],
   "source": [
    "#Counting Sheep\n",
    "\n",
    "array1 = [True,  True,  True,  False,\n",
    "          True,  True,  True,  True ,\n",
    "          True,  False, True,  False,\n",
    "          True,  False, False, True ,\n",
    "          True,  True,  True,  True ,\n",
    "          False, False, True,  True ];\n",
    "\n",
    "def count_sheeps(array1):\n",
    "    true_Value = 0\n",
    "    for x in array1:\n",
    "        if x == True:\n",
    "            true_Value += 1\n",
    "        \n",
    "    return true_Value\n",
    "count_sheeps(array1)"
   ]
  },
  {
   "cell_type": "code",
   "execution_count": null,
   "id": "88a6c5b5",
   "metadata": {},
   "outputs": [],
   "source": [
    "#Removing elements\n",
    "def remove_every_other(my_list):\n",
    "    return my_list[::2]\n"
   ]
  },
  {
   "cell_type": "code",
   "execution_count": null,
   "id": "0ce99e6a",
   "metadata": {},
   "outputs": [],
   "source": [
    "#Convert number to reversed array of digits\n",
    "\n",
    "n = 0\n",
    "\n",
    "def digitize(n):\n",
    "    n = str(348597)\n",
    "    n2 = list(map(int,n))\n",
    "    n2.reverse()\n",
    "    return n2\n",
    "\n",
    "digitize(n)"
   ]
  },
  {
   "cell_type": "code",
   "execution_count": null,
   "id": "286dd7a4",
   "metadata": {},
   "outputs": [],
   "source": [
    "#Square every digit\n",
    "\n",
    "def square_digits(num):\n",
    "    ret = \"\"\n",
    "    for x in str(num):\n",
    "        ret += str(int(x)**2)\n",
    "    return int(ret)"
   ]
  },
  {
   "cell_type": "code",
   "execution_count": null,
   "id": "6e9c0b06",
   "metadata": {},
   "outputs": [],
   "source": [
    "#Method For Counting Total Occurence Of Specific Digits\n",
    "\n",
    "import collections\n",
    "\n",
    "integers_list =  [1, 1, 2 ,3 ,1 ,2 ,3 ,4]\n",
    "digits_list = [1, 3]\n",
    "\n",
    "for x in integers_list:\n",
    "    if x not in digits_list:\n",
    "        integers_list.remove(x)\n",
    "\n",
    "occ = collections.Counter(integers_list)\n",
    "print(occ)"
   ]
  }
 ],
 "metadata": {
  "kernelspec": {
   "display_name": "Python 3 (ipykernel)",
   "language": "python",
   "name": "python3"
  },
  "language_info": {
   "codemirror_mode": {
    "name": "ipython",
    "version": 3
   },
   "file_extension": ".py",
   "mimetype": "text/x-python",
   "name": "python",
   "nbconvert_exporter": "python",
   "pygments_lexer": "ipython3",
   "version": "3.9.7"
  }
 },
 "nbformat": 4,
 "nbformat_minor": 5
}
