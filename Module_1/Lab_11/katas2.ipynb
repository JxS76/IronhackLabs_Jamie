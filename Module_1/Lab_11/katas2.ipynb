{
 "cells": [
  {
   "cell_type": "code",
   "execution_count": null,
   "id": "085b5866",
   "metadata": {},
   "outputs": [],
   "source": [
    "#Remove All The Marked Elements of a List\n",
    "\n",
    "class List(object):\n",
    "    def remove_(self, integer_list, values_list):\n",
    "        blacklist = set(values_list)\n",
    "        return [val for val in integer_list if val not in blacklist]"
   ]
  },
  {
   "cell_type": "code",
   "execution_count": null,
   "id": "a96ca1ce",
   "metadata": {},
   "outputs": [],
   "source": [
    "#Method For Counting Total Occurence Of Specific Digits\n",
    "\n",
    "class List(object):\n",
    "    def count_spec_digits(self, integers_list, digits_list):\n",
    "        s = \"\".join(str(i) for i in integers_list)\n",
    "        return [(dig, s.count(str(dig))) for dig in digits_list]"
   ]
  },
  {
   "cell_type": "code",
   "execution_count": null,
   "id": "779f520e",
   "metadata": {},
   "outputs": [],
   "source": [
    "#Ordered Count of Characters\n",
    "\n",
    "from collections import OrderedDict, Counter\n",
    "\n",
    "class OrderedCounter(Counter, OrderedDict):\n",
    "    pass\n",
    "\n",
    "def ordered_count(seq):\n",
    "    return list(OrderedCounter(seq).items())"
   ]
  }
 ],
 "metadata": {
  "kernelspec": {
   "display_name": "Python 3 (ipykernel)",
   "language": "python",
   "name": "python3"
  },
  "language_info": {
   "codemirror_mode": {
    "name": "ipython",
    "version": 3
   },
   "file_extension": ".py",
   "mimetype": "text/x-python",
   "name": "python",
   "nbconvert_exporter": "python",
   "pygments_lexer": "ipython3",
   "version": "3.9.7"
  }
 },
 "nbformat": 4,
 "nbformat_minor": 5
}
